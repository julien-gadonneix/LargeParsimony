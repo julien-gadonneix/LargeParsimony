{
  "cells": [
    {
      "cell_type": "markdown",
      "metadata": {
        "id": "_gaKW86-hlTr"
      },
      "source": [
        "# Required libraries"
      ]
    },
    {
      "cell_type": "code",
      "execution_count": 1,
      "metadata": {
        "colab": {
          "base_uri": "https://localhost:8080/"
        },
        "id": "PnaxHAsyvv_i",
        "outputId": "e04eab00-15c2-4c2a-814c-5fce697e0827"
      },
      "outputs": [],
      "source": [
        "#!pip install biopython"
      ]
    },
    {
      "cell_type": "code",
      "execution_count": 2,
      "metadata": {
        "id": "XcirCAZphi_C"
      },
      "outputs": [],
      "source": [
        "import numpy as np\n",
        "import graphviz\n",
        "import random as rd\n",
        "import copy\n",
        "from Bio.Seq import Seq\n",
        "from Bio import AlignIO\n",
        "import time\n",
        "import matplotlib.pyplot as plt"
      ]
    },
    {
      "cell_type": "markdown",
      "metadata": {
        "id": "j3oIuwx9bTSi"
      },
      "source": [
        "# Small parsimony"
      ]
    },
    {
      "cell_type": "markdown",
      "metadata": {
        "id": "ZlS-fg7jjTHl"
      },
      "source": [
        "## Useful functions"
      ]
    },
    {
      "cell_type": "code",
      "execution_count": 3,
      "metadata": {
        "id": "fEc3ETJ-jjsO"
      },
      "outputs": [],
      "source": [
        "def example_w(x,y):\n",
        "    \"\"\"\n",
        "    Example pairwise distance w\n",
        "\n",
        "    Args:\n",
        "     x: character or gap\n",
        "     y: character or gap\n",
        "\n",
        "    Returns: integer distance\n",
        "    \"\"\"\n",
        "    if x==y: return 0\n",
        "    elif x=='-' or y=='-': return 2 # corresponding to linear gap cost g(k)=2k\n",
        "    else: return 3 # uniform mismatch cost"
      ]
    },
    {
      "cell_type": "markdown",
      "metadata": {
        "id": "UXJipATTgW5h"
      },
      "source": [
        "## Tree construction by UPGMA"
      ]
    },
    {
      "cell_type": "code",
      "execution_count": 4,
      "metadata": {
        "id": "-_UYptlMNRzp"
      },
      "outputs": [],
      "source": [
        "def upgma(matrix):\n",
        "    \"\"\"\n",
        "    UPGMA\n",
        "\n",
        "    Args:\n",
        "        matrix: distance matrix\n",
        "    Returns:\n",
        "        binary upgma tree\n",
        "    \"\"\"\n",
        "    matrix = np.array(matrix)\n",
        "    card = np.ones(len(matrix))\n",
        "    T = tuple(range(len(matrix)))\n",
        "    while len(T) > 2:\n",
        "        mask = ~np.eye(matrix.shape[0], dtype=bool)\n",
        "        masked_matrix = np.where(mask, matrix, np.inf)\n",
        "        i, j = np.unravel_index(np.argmin(masked_matrix), matrix.shape) # get the minimal distance\n",
        "        Ci, Cj = T[i], T[j]\n",
        "        cardNew = card[i] + card[j]\n",
        "        T = tuple(element for element in T if element not in (Ci, Cj))\n",
        "        T = T + ((Ci, Cj),)\n",
        "        new_row = [(matrix[i, l]*card[i] + matrix[j, l]*card[j])/cardNew for l in range(len(matrix)) if l not in (i, j)]\n",
        "        matrix = np.delete(np.delete(matrix, max(i, j), axis=0), min(i, j), axis=0) # modify the distance matrix\n",
        "        matrix = np.delete(np.delete(matrix, max(i, j), axis=1), min(i, j), axis=1)\n",
        "        matrix = np.vstack([matrix, new_row])\n",
        "        new_row.append(0)\n",
        "        matrix = np.column_stack([matrix, new_row])\n",
        "        card = np.delete(np.delete(card, j), i) # update the cardinalities\n",
        "        card = np.append(card, cardNew)\n",
        "    return T"
      ]
    },
    {
      "cell_type": "markdown",
      "metadata": {
        "id": "foPNuQr1grde"
      },
      "source": [
        "## Mulitple Sequence Alignment"
      ]
    },
    {
      "cell_type": "code",
      "execution_count": 5,
      "metadata": {
        "id": "C1ZstZ1QPoFh"
      },
      "outputs": [],
      "source": [
        "def profile_alignment(A, B, w):\n",
        "    \"\"\"\n",
        "    Needleman-Wunsch profile alignment\n",
        "\n",
        "    Args:\n",
        "        A: multiple sequence alignment\n",
        "        B: multiple sequence alignment\n",
        "        w: cost function (over alphabet and '-')\n",
        "    Returns:\n",
        "        Multiple alignment with minimum profile alignment cost\n",
        "    \"\"\"\n",
        "    Kprime = len(A)\n",
        "    Ksecond = len(B)\n",
        "    na = len(A[0])\n",
        "    nb = len(B[0])\n",
        "\n",
        "    D = np.zeros((na+1,nb+1), dtype='int') # initialize the matrix as in the NW porcess\n",
        "    D[0,0] = 0\n",
        "    for i in range(1, na+1):\n",
        "        D[i,0] = D[i-1,0] + np.sum([w(A[k][i-1], '-') for k in range(Kprime) for l in range(Ksecond)]) # pairwise sum cost\n",
        "    for j in range(1, nb+1):\n",
        "        D[0,j] = D[0,j-1] + np.sum([w('-', B[l][j-1]) for k in range(Kprime) for l in range(Ksecond)]) # pairwise sum cost\n",
        "\n",
        "    for i in range(1,na+1): # fill the matrix as in the NW process\n",
        "        for j in range(1,nb+1):\n",
        "            D[i,j] = min(D[i-1,j-1] + np.sum([w(A[k][i-1], B[l][j-1]) for k in range(Kprime) for l in range(Ksecond)]), # pairwise sum cost\n",
        "                         D[i-1,j] + np.sum([w(A[k][i-1], '-') for k in range(Kprime) for l in range(Ksecond)]), # pairwise sum cost\n",
        "                         D[i,j-1] + np.sum([w('-', B[l][j-1]) for k in range(Kprime) for l in range(Ksecond)])) # pairwise sum cost\n",
        "    AA = [\"\" for a in A]\n",
        "    BB = [\"\" for b in B]\n",
        "    i = na\n",
        "    j = nb\n",
        "    while i>0 or j>0: # backtrack like in the NW porcess\n",
        "        if i>0 and j>0 and D[i,j] == D[i-1,j-1]+np.sum([w(A[k][i-1],B[l][j-1]) for k in range(Kprime) for l in range(Ksecond)]):\n",
        "            for k in range(Kprime): # extend the strings of all the sequences\n",
        "                AA[k] = A[k][i-1] + AA[k]\n",
        "            for l in range(Ksecond): # extend the strings of all the sequences\n",
        "                BB[l] = B[l][j-1] + BB[l]\n",
        "            i -= 1\n",
        "            j -= 1\n",
        "        elif i>0 and D[i,j] == D[i-1,j]+np.sum([w(A[k][i-1],'-') for k in range(Kprime) for l in range(Ksecond)]):\n",
        "            for k in range(Kprime): # extend the strings of all the sequences\n",
        "                AA[k] = A[k][i-1] + AA[k]\n",
        "            for l in range(Ksecond): # extend the strings of all the sequences\n",
        "                BB[l] = '-' + BB[l]\n",
        "            i -= 1\n",
        "        else:\n",
        "            for k in range(Kprime): # extend the strings of all the sequences\n",
        "                AA[k] = '-' + AA[k]\n",
        "            for l in range(Ksecond): # extend the strings of all the sequences\n",
        "                BB[l] = B[l][j-1] + BB[l]\n",
        "            j -= 1\n",
        "\n",
        "    AB = AA + BB\n",
        "\n",
        "    return AB, D[na, nb]\n",
        "\n",
        "\n",
        "def distance_matrix(sequences,w):\n",
        "    \"\"\"\n",
        "    Compute pairwise alignment distances\n",
        "\n",
        "    Args:\n",
        "        sequences: list of input sequences\n",
        "        w: distance function\n",
        "    Returns: matrix of all pairwise alignment distances\n",
        "    \"\"\"\n",
        "    n = len(sequences)\n",
        "    pairwise_D = np.zeros((n, n))\n",
        "\n",
        "    for k in range(n):\n",
        "        a = sequences[k]\n",
        "        for l in range(k+1, n):\n",
        "            b = sequences[l]\n",
        "            D = np.zeros((len(a)+1,len(b)+1), dtype='int') # NW algorithm\n",
        "\n",
        "            D[0,0] = 0\n",
        "            for i in range(1,len(a)+1):\n",
        "                D[i,0] = D[i-1,0] + w(a[i-1],'-')\n",
        "            for j in range(1,len(b)+1):\n",
        "                D[0,j] = D[0,j-1] + w('-',b[j-1])\n",
        "\n",
        "            for i in range(1,len(a)+1):\n",
        "                for j in range(1,len(b)+1):\n",
        "                    D[i,j] = min(D[i-1,j-1]+w(a[i-1],b[j-1]), D[i-1,j]+w(a[i-1],'-'), D[i,j-1]+w('-',b[j-1]))\n",
        "\n",
        "            pairwise_D[k, l] = D[len(a), len(b)]\n",
        "            pairwise_D[l, k] = D[len(a), len(b)]\n",
        "\n",
        "    return pairwise_D\n",
        "\n",
        "\n",
        "def guide_tree(sequences, w):\n",
        "    \"\"\"\n",
        "    Compute guide tree\n",
        "\n",
        "    Args:\n",
        "        sequences: list of input sequences\n",
        "        w: distance function\n",
        "    Returns: guide tree\n",
        "    \"\"\"\n",
        "    matrix = distance_matrix(sequences, w)\n",
        "    return upgma(matrix)\n",
        "\n",
        "\n",
        "def construct_MSA(tree, seqs, cost):\n",
        "    if isinstance(tree[0], int):\n",
        "        A = [seqs[tree[0]]] # construct a set of 1 sequence\n",
        "    else:\n",
        "        A, _ = construct_MSA(tree[0], seqs, cost)\n",
        "    if isinstance(tree[1], int):\n",
        "        B = [seqs[tree[1]]] # construct a set of 1 sequence\n",
        "    else:\n",
        "        B, _ = construct_MSA(tree[1], seqs, cost)\n",
        "    return profile_alignment(A, B, cost)\n",
        "\n",
        "\n",
        "def progressive_alignment(sequences, w):\n",
        "    \"\"\"\n",
        "    Progressive multiple alignment\n",
        "\n",
        "    Args:\n",
        "        sequences: list of sequences\n",
        "        w: cost function\n",
        "    Returns:\n",
        "        MSA constructed by progressive alignment algorithm\n",
        "    \"\"\"\n",
        "    gt = guide_tree(sequences,w) # construct guide tree\n",
        "    AB, score = construct_MSA(gt, sequences, w) # follow the guide tree and recursively construct larger and larger MSA\n",
        "    return np.array(AB), score"
      ]
    },
    {
      "cell_type": "markdown",
      "metadata": {
        "id": "xl-B7t2XiOWf"
      },
      "source": [
        "## Small parsimony"
      ]
    },
    {
      "cell_type": "code",
      "execution_count": 6,
      "metadata": {
        "id": "ynZRncavZ6qh"
      },
      "outputs": [],
      "source": [
        "def column_parsimony(tree, char_column):\n",
        "    if not isinstance(tree[0], int):\n",
        "        column_parsimony(tree[0], char_column)\n",
        "    if not isinstance(tree[1], int):\n",
        "        column_parsimony(tree[1], char_column)\n",
        "    c0 = char_column[tree[0]].keys()\n",
        "    c1 = char_column[tree[1]].keys()\n",
        "    characters = set(list(c0)+list(c1))\n",
        "    for c in characters:\n",
        "        char_column[tree] = {}\n",
        "        min0 = np.inf\n",
        "        for k0 in c0:\n",
        "            val = char_column[tree[0]][k0] + 1*(k0!=c)\n",
        "            if val < min0:\n",
        "                min0 = val\n",
        "        min1 = np.inf\n",
        "        for k1 in c1:\n",
        "            val = char_column[tree[1]][k1] + 1*(k1!=c)\n",
        "            if val < min1:\n",
        "                min1 = val\n",
        "        char_column[tree][c] = min0 + min1\n",
        "\n",
        "\n",
        "def fill_seq(char_columns, ancestral_seq, tree, n):\n",
        "    ancestral_seq.append(\"\")\n",
        "    for i in range(n):\n",
        "        ancestral_seq[-1] += min(char_columns[i][tree], key=lambda c: char_columns[i][tree][c])\n",
        "    if not isinstance(tree, int):\n",
        "        fill_seq(char_columns, ancestral_seq, tree[0], n)\n",
        "        fill_seq(char_columns, ancestral_seq, tree[1], n)\n",
        "\n",
        "\n",
        "def small_parsimony(msa, tree):\n",
        "    \"\"\"\n",
        "    Small parsimony\n",
        "\n",
        "    Args:\n",
        "        msa: multiple sequence alignment\n",
        "        tree: tree over sequences / msa rows\n",
        "    Returns:\n",
        "        parsimony score, list of all ancestral sequences in pre-order of tree nodes\n",
        "    \"\"\"\n",
        "    K = len(msa)\n",
        "    n = len(msa[0])\n",
        "\n",
        "    score = 0\n",
        "    char_columns = list()\n",
        "    for i in range(n):\n",
        "        char_column = {j : {msa[j][i] : 0} for j in range(K)} # initialize the dictionary with the leaves and the values of the letter in position i\n",
        "        column_parsimony(tree, char_column) # complete the dictionary with all the nodes and compute the values for the letters in position i of their children\n",
        "        score += min(char_column[tree].values())\n",
        "        char_columns.append(char_column)\n",
        "\n",
        "    ancestral_seq = list()\n",
        "    fill_seq(char_columns, ancestral_seq, tree, n)\n",
        "\n",
        "    return np.array(ancestral_seq), score"
      ]
    },
    {
      "cell_type": "markdown",
      "metadata": {
        "id": "B29XE2QQimH3"
      },
      "source": [
        "## Some preliminary tests"
      ]
    },
    {
      "cell_type": "code",
      "execution_count": null,
      "metadata": {
        "colab": {
          "base_uri": "https://localhost:8080/"
        },
        "id": "3A-mzwpAiqvp",
        "outputId": "dc8ef955-00a1-4452-dd2c-a69b886f0124"
      },
      "outputs": [],
      "source": [
        "# 15 tRNAs\n",
        "sequences_tRNA_15 = [\"ACTCCCTTAGTATAATTAATATAACTGACTTCCAATTAGTAGATTCTGAATAAACCCAGAAGAGAGTA\",\n",
        "\"GGGCCTGTAGCTCAGAGGATTAGAGCACGTGGCTACGAACCACGGTGTCGGGGGTTCGAATCCCTCCTCGCCCA\",\n",
        "\"GGCGCCGTGGCGCAGTGGAAGCGCGCAGGGCTCATAACCCTGATGTCCTCGGATCGAAACCGAGCGGCGCTA\",\n",
        "\"GGGCTATTAGCTCAGTTGGTTAGAGCGCACCCCTGATAAGGGTGAGGTCGCTGATTCGAATTCAGCATAGCCCA\",\n",
        "\"GCGTTGGTGGTATAGTGGTGAGCATAGCTGCCTTCCAAGCAGTTGACCCGGGTTCGATTCCCGGCCAACGCA\",\n",
        "\"GGCGGGATAGCTCAGCTGGTTAGAGCGCTCGGCTCATACCCGGGAGGTCAAGAGTTCAAGTCTCTTTCTCGCTA\",\n",
        "\"GGGCCTGTAGCTCAGCTGGTTAGAGCGCACGCCTGATAAGCGTGAGGTCGGTGGTTCGAGTCCACTCAGGCCCA\",\n",
        "\"GGTAAAATGGCTGAGTGAAGCATTGGACTGTAAATCTAAAGACAGGGGTTAGGCCTCTTTTTACCA\",\n",
        "\"AAGGGTATAGTTTAATTGGTAAAACAGTTGACTTCAAATCAATATAGTGATAGTTCAATTCTGTCTGCCCTTG\",\n",
        "\"GGGTGATTAGCTCAGCTGGGAGAGCACCTCCCTTACAAGGAGGGGGTCGGCGGTTCGATCCCGTCATCACCCA\",\n",
        "\"GTCCCCTTCGTCTAGAGGCCCAGGACACCGCCCTTTCACGGCGGTAACAGGGGTTCGAATCCCCTAGGGGACG\",\n",
        "\"GGAGGATTAGCTCAGCTGGGAGAGCACTTGCCTTACAAGCAAGGGGTCGGCGGTTCGATCCCGTCATCCTCCA\",\n",
        "\"GTTTCCGTAGTGTAGTGGTCATCACGTTCGCCTAACACGCGAAAGGTCCCCGGTTCGAAACCGGGCGGAAACA\",\n",
        "\"GCCGAAGTGGCGAAATCGGTAGACGCAGTTGATTCAAAATCAACCGTAGAAATACGTGCCGGTTCGAGTCCGGCCTTCGGCA\",\n",
        "\"GCGCAAGTGGTTTAGTGGTAAAATCCAACGTTGCCATCGTTGGGCCCCCGGTTCGATTCCGGGCTTGCGCA\"]\n",
        "\n",
        "msa, _ = progressive_alignment(sequences_tRNA_15, example_w)\n",
        "tree = guide_tree(sequences_tRNA_15, example_w)\n",
        "print(small_parsimony(msa, tree))"
      ]
    },
    {
      "cell_type": "markdown",
      "metadata": {
        "id": "Uz8qi8oSbd6o"
      },
      "source": [
        "# Implementation of nearest neighbor strategy"
      ]
    },
    {
      "cell_type": "markdown",
      "metadata": {
        "id": "1cHlHp2_oZd4"
      },
      "source": [
        "## Tree class to ease the tree rearrangements"
      ]
    },
    {
      "cell_type": "code",
      "execution_count": null,
      "metadata": {
        "colab": {
          "base_uri": "https://localhost:8080/",
          "height": 381
        },
        "id": "RQ3hPfHtf-Vg",
        "outputId": "568ef36a-5b8e-4ba7-b679-a61a6d80afed"
      },
      "outputs": [],
      "source": [
        "class TreeNode:\n",
        "    \"\"\"\n",
        "    A class used to represent the guide trees used for the small parsimony agorithm\n",
        "    \"\"\"\n",
        "    def __init__(self, label):\n",
        "        self.label = label\n",
        "        self.children = []\n",
        "\n",
        "    def add_child(self, child):\n",
        "        assert isinstance(child, TreeNode)\n",
        "        self.children.append(child)\n",
        "\n",
        "    def _add_to_graphviz(self, dot, index=1):\n",
        "        node_id = f'node{index}'\n",
        "        dot.node(node_id, str(self.label))\n",
        "        index += 1\n",
        "\n",
        "        for child in self.children:\n",
        "            child_index = index\n",
        "            child_node_id = f'node{child_index}'\n",
        "            index = child._add_to_graphviz(dot, child_index)\n",
        "            dot.edge(node_id, child_node_id)\n",
        "\n",
        "        return index\n",
        "\n",
        "    def dot(self):\n",
        "        dot = graphviz.Digraph('Tree')\n",
        "        graph_attr={'rankdir': 'LR', 'ranksep': '0.4'}\n",
        "        node_attr={'shape': 'plaintext', 'width': '0.1', 'height': '0.1'}\n",
        "        edge_attr={'arrowsize': '0.75'}\n",
        "        dot.graph_attr.update(graph_attr)\n",
        "        dot.node_attr.update(node_attr)\n",
        "        dot.edge_attr.update(edge_attr)\n",
        "\n",
        "        self._add_to_graphviz(dot)\n",
        "        return dot\n",
        "\n",
        "    @classmethod\n",
        "    def from_string(cls, s):\n",
        "        def parse_subtree(subtree_str):\n",
        "            subtree_str = subtree_str.strip()\n",
        "            if subtree_str.startswith('('):\n",
        "                subtree_str = subtree_str[1:-1]\n",
        "                node = TreeNode(None)\n",
        "                children_strs = split_children(subtree_str)\n",
        "                for child_str in children_strs:\n",
        "                    node.add_child(parse_subtree(child_str))\n",
        "                return node\n",
        "            else:\n",
        "                return TreeNode(int(subtree_str))\n",
        "\n",
        "        def split_children(subtree_str):\n",
        "            children = []\n",
        "            paren_level = 0\n",
        "            last_comma = -1\n",
        "            for i, char in enumerate(subtree_str):\n",
        "                if char == '(':\n",
        "                    paren_level += 1\n",
        "                elif char == ')':\n",
        "                    paren_level -= 1\n",
        "                elif char == ',' and paren_level == 0:\n",
        "                    children.append(subtree_str[last_comma+1:i].strip())\n",
        "                    last_comma = i\n",
        "            children.append(subtree_str[last_comma+1:].strip())\n",
        "            return children\n",
        "\n",
        "        return parse_subtree(s)\n",
        "\n",
        "    @classmethod\n",
        "    def from_tuple(cls, t):\n",
        "        if isinstance(t, int):\n",
        "            return TreeNode(t)\n",
        "        else:\n",
        "            root = TreeNode(None)\n",
        "            for child_tuple in t:\n",
        "                root.add_child(TreeNode.from_tuple(child_tuple))\n",
        "            return root\n",
        "\n",
        "    def to_tuple(self):\n",
        "        if self.label is None:\n",
        "            return tuple(child.to_tuple() for child in self.children)\n",
        "        else:\n",
        "            return int(self.label)\n",
        "\n",
        "# Example:\n",
        "tree_tuple = ((4, 5), (6, ((7, 8), (3, (2, (0, 1))))))\n",
        "tree = TreeNode.from_tuple(tree_tuple)\n",
        "tree.dot()\n"
      ]
    },
    {
      "cell_type": "markdown",
      "metadata": {
        "id": "1XCXdAh6DLx8"
      },
      "source": [
        "## Nearest Neighbors interchange naive : returns the list of all subtrees"
      ]
    },
    {
      "cell_type": "code",
      "execution_count": 9,
      "metadata": {
        "id": "O1Kcxcce6fDW"
      },
      "outputs": [],
      "source": [
        "def nni_node_all(node):\n",
        "    \"\"\"\n",
        "    Naive method for nearest neighbors interchange : return all the possible subtrees\n",
        "\n",
        "    Args:\n",
        "      node : the node we want to obtain all the subtrees from\n",
        "\n",
        "    Returns:\n",
        "      subtrees_ : a list containing all the subtrees of node we can obtain thanks to nni\n",
        "    \"\"\"\n",
        "    subtrees_ = [node]\n",
        "    if len(node.children) == 2 and all(len(child.children) == 2 for child in node.children):\n",
        "        subtrees_ = []\n",
        "        children0 = nni_node_all(node.children[0])\n",
        "        children1 = nni_node_all(node.children[1])\n",
        "        for child0 in children0:\n",
        "            for child1 in children1:\n",
        "                new_node = copy.deepcopy(node)\n",
        "                new_node.children[0] = child0\n",
        "                new_node.children[1] = child1\n",
        "                subtrees_.append(new_node) #No change : 1st version\n",
        "                new_node2 = copy.deepcopy(new_node)\n",
        "                new_node2.children[0].children[0], new_node2.children[1].children[0] = child1.children[0], child0.children[0]\n",
        "                subtrees_.append(new_node2) #2nd version\n",
        "                new_node3 = copy.deepcopy(new_node)\n",
        "                new_node3.children[0].children[0], new_node3.children[1].children[1] = child1.children[1], child0.children[0]\n",
        "                subtrees_.append(new_node3) #3rd version\n",
        "    elif len(node.children) ==2 :\n",
        "        subtrees_ = []\n",
        "        children0 = nni_node_all(node.children[0])\n",
        "        children1 = nni_node_all(node.children[1])\n",
        "        for child0 in children0:\n",
        "            for child1 in children1:\n",
        "                new_node = copy.deepcopy(node)\n",
        "                new_node.children[0], new_node.children[1] = child0, child1\n",
        "                subtrees_.append(new_node)\n",
        "\n",
        "    return subtrees_\n"
      ]
    },
    {
      "cell_type": "code",
      "execution_count": null,
      "metadata": {
        "colab": {
          "base_uri": "https://localhost:8080/",
          "height": 263
        },
        "id": "OufuMPUH_kuK",
        "outputId": "369ac3a6-daa5-409a-8cb5-479d73704e82"
      },
      "outputs": [],
      "source": [
        "#Quick test to check our first nni algorithm\n",
        "tree_test = TreeNode.from_tuple((((1,2),3),(4,5)))\n",
        "l = nni_node_all(tree_test)\n",
        "print(len(l))\n",
        "l[1].dot()"
      ]
    },
    {
      "cell_type": "markdown",
      "metadata": {
        "id": "QVrxmIUvDVsG"
      },
      "source": [
        "## Nearest Neighbors interchange : a more optimized version of the NNI method, this algorithm doesn't try all the subtrees but compute the parsimony score of the substructure and only keeps the best substructure to create the larger structures"
      ]
    },
    {
      "cell_type": "code",
      "execution_count": 11,
      "metadata": {
        "id": "pHPSFIvbDv6f"
      },
      "outputs": [],
      "source": [
        "def nni_node_optimized(node, msa):\n",
        "    \"\"\"\n",
        "    A more optimized version of the NNI method, this algorithm doesn't try all the subtrees but compute the parsimony score of the substructure and only keeps the best substructure to create the larger structures\n",
        "\n",
        "    Args:\n",
        "      node : the node we want to obtain the best subtree from\n",
        "      msa : the multiple alignment linked to our node / tree\n",
        "\n",
        "    Returns:\n",
        "      best_score : the best small parsimony score obtainable thanks to the nni method\n",
        "      best_structure : the node structure linked to the previous score\n",
        "    \"\"\"\n",
        "    if len(node.children) <= 1 or all(len(child.children) < 2 for child in node.children):\n",
        "        score = 1\n",
        "        return score, node\n",
        "\n",
        "    _, best_score = small_parsimony(msa, node.to_tuple())\n",
        "    best_structure = node\n",
        "\n",
        "    if len(node.children) == 2 and all(len(child.children) == 2 for child in node.children):\n",
        "        _, child0 = nni_node_optimized(node.children[0],msa)\n",
        "        _, child1 = nni_node_optimized(node.children[1],msa)\n",
        "        new_node = copy.deepcopy(node) #No change : 1st version\n",
        "        new_node.children[0] = child0\n",
        "        new_node.children[1] = child1\n",
        "        _, temp_score1 = small_parsimony(msa, new_node.to_tuple())\n",
        "        if temp_score1 < best_score:\n",
        "            best_score = temp_score1\n",
        "            best_structure = new_node\n",
        "        new_node2 = copy.deepcopy(new_node) #2nd version\n",
        "        new_node2.children[0].children[0], new_node2.children[1].children[0] = child1.children[0], child0.children[0]\n",
        "        _, temp_score2 = small_parsimony(msa, new_node2.to_tuple())\n",
        "        if temp_score2 < best_score:\n",
        "            best_score = temp_score2\n",
        "            best_structure = new_node2\n",
        "        new_node3 = copy.deepcopy(new_node) #3rd version\n",
        "        new_node3.children[0].children[0], new_node3.children[1].children[1] = child1.children[1], child0.children[0]\n",
        "        _, temp_score3 = small_parsimony(msa, new_node3.to_tuple())\n",
        "        if temp_score3 < best_score:\n",
        "            best_score = temp_score3\n",
        "            best_structure = new_node3\n",
        "    else :\n",
        "        _, child0 = nni_node_optimized(node.children[0], msa)\n",
        "        _, child1 = nni_node_optimized(node.children[1], msa)\n",
        "        new_node = copy.deepcopy(node) #3rd version\n",
        "        new_node.children[0], new_node.children[1] = child0, child1\n",
        "        _, temp_score = small_parsimony(msa, new_node.to_tuple())\n",
        "        if temp_score < best_score:\n",
        "            best_score = temp_score\n",
        "            best_structure = new_node\n",
        "    return best_score, best_structure\n"
      ]
    },
    {
      "cell_type": "markdown",
      "metadata": {
        "id": "GJnZxyRrFJhx"
      },
      "source": [
        "# Implementation of pruning and regraphting strategy"
      ]
    },
    {
      "cell_type": "code",
      "execution_count": 12,
      "metadata": {
        "id": "6TPEE9HuFHsI"
      },
      "outputs": [],
      "source": [
        "def collect_subtrees(node, subtrees):\n",
        "  '''\n",
        "  Returns all the possible subtrees\n",
        "\n",
        "  Args:\n",
        "    node : the node we want to obtain the subtrees from\n",
        "    subtrees : the list we want to fill\n",
        "\n",
        "  Returns:\n",
        "    Nothing, it fills the subtrees list\n",
        "  '''\n",
        "  if len(node.children) == 2:\n",
        "    collect_subtrees(node.children[0], subtrees)\n",
        "    collect_subtrees(node.children[1], subtrees)\n",
        "    subtrees.append(node)\n",
        "\n",
        "\n",
        "def find_and_remove_subtree(node, subtree):\n",
        "  '''Finds the subtree as input and remove it from the tree'''\n",
        "  if len(node.children) == 2:\n",
        "    if node.children[0] == subtree:\n",
        "      node = node.children[1]\n",
        "    elif node.children[1] == subtree:\n",
        "      node = node.children[0]\n",
        "    else:\n",
        "      node.children[0] = find_and_remove_subtree(node.children[0], subtree)\n",
        "      node.children[1] = find_and_remove_subtree(node.children[1], subtree)\n",
        "  return node\n",
        "\n",
        "\n",
        "def regrapht_subtree(node, subtree):\n",
        "  '''Adds the subtree as input at a random leaf'''\n",
        "  if len(node.children) == 0:\n",
        "    node.add_child(copy.deepcopy(node))\n",
        "    node.label = None\n",
        "    node.add_child(subtree)\n",
        "  else:\n",
        "    coin = np.random.uniform()\n",
        "    if coin > 0.5:\n",
        "      node.children[0] = regrapht_subtree(node.children[0], subtree)\n",
        "    else:\n",
        "      node.children[1] = regrapht_subtree(node.children[1], subtree)\n",
        "  return node\n",
        "\n",
        "\n",
        "def all_regrapht_subtree(origin, node, subtree, nodes):\n",
        "  '''Adds the subtree as input at a random leaf'''\n",
        "  if len(node.children) == 0:\n",
        "    node.add_child(copy.deepcopy(node))\n",
        "    node.label = None\n",
        "    node.add_child(subtree)\n",
        "    nodes.append(origin)\n",
        "  else:\n",
        "    origin2 = copy.deepcopy(origin)\n",
        "    all_regrapht_subtree(origin2, node.children[0], subtree, nodes)\n",
        "    origin3 = copy.deepcopy(origin)\n",
        "    all_regrapht_subtree(origin3, node.children[1], subtree, nodes)\n",
        "\n",
        "\n",
        "def prune_and_regrapht(node):\n",
        "  '''Moves a random subtree at a random position'''\n",
        "  if len(node.children) == 2:\n",
        "    node2 = copy.deepcopy(node)\n",
        "    subtrees = list()\n",
        "    collect_subtrees(node2.children[0], subtrees)\n",
        "    collect_subtrees(node2.children[1], subtrees)\n",
        "    random_subtree = rd.choice(subtrees)\n",
        "    node2 = find_and_remove_subtree(node2, random_subtree)\n",
        "    node2 = regrapht_subtree(node2, random_subtree)\n",
        "    return node2\n",
        "\n",
        "\n",
        "def prune_and_regrapht_all(node):\n",
        "  '''Moves a random subtree at all possible positions'''\n",
        "  nodes = list()\n",
        "  if len(node.children) == 2:\n",
        "    if len(node.children[0].children) == 2 or len(node.children[1].children) == 2:\n",
        "      node2 = copy.deepcopy(node)\n",
        "      subtrees = list()\n",
        "      collect_subtrees(node2.children[0], subtrees)\n",
        "      collect_subtrees(node2.children[1], subtrees)\n",
        "      random_subtree = rd.choice(subtrees)\n",
        "      node2 = find_and_remove_subtree(node2, random_subtree)\n",
        "      all_regrapht_subtree(node2, node2, random_subtree, nodes)\n",
        "  return nodes\n"
      ]
    },
    {
      "cell_type": "code",
      "execution_count": 13,
      "metadata": {
        "id": "bKz3fPtCLuCp"
      },
      "outputs": [],
      "source": [
        "def prune_and_regrapht_greedy(node, n, msa):\n",
        "  \"\"\"\n",
        "  A method to obtain a better structure by pruning and regraphting our current best structure\n",
        "  \"\"\"\n",
        "  _, best_score = small_parsimony(msa, node.to_tuple())\n",
        "  best_struc = node\n",
        "  for i in range(n):\n",
        "    new_node = prune_and_regrapht(best_struc)\n",
        "    _, new_score = small_parsimony(msa, new_node.to_tuple())\n",
        "    if new_score < best_score:\n",
        "      best_score = new_score\n",
        "      best_struc = new_node\n",
        "  return best_score, best_struc\n",
        "\n",
        "\n",
        "def prune_and_regrapht_naive(node, n, msa):\n",
        "  \"\"\"\n",
        "  A method to obtain a better structure by pruning and regraphting our first structure (node)\n",
        "  \"\"\"\n",
        "  _, best_score = small_parsimony(msa, node.to_tuple())\n",
        "  best_struc = node\n",
        "  for i in range(n):\n",
        "    new_node = prune_and_regrapht(node)\n",
        "    _, new_score = small_parsimony(msa, new_node.to_tuple())\n",
        "    if new_score < best_score:\n",
        "      best_score = new_score\n",
        "      best_struc = new_node\n",
        "  return best_score, best_struc\n",
        "\n",
        "\n",
        "def prune_and_regrapht_exhaustive(node, n, msa):\n",
        "  \"\"\"\n",
        "  A method to obtain a better structure by pruning and regraphting our first structure (node)\n",
        "  However, unlike the previous one, this method tries all the possible positions of the random subtree moved by the pruning and regraphting\n",
        "  \"\"\"\n",
        "  _, best_score = small_parsimony(msa, node.to_tuple())\n",
        "  best_struc = node\n",
        "  for i in range(n):\n",
        "    nodes = prune_and_regrapht_all(best_struc)\n",
        "    for new_node in nodes:\n",
        "      _, new_score = small_parsimony(msa, new_node.to_tuple())\n",
        "      if new_score < best_score:\n",
        "        best_score = new_score\n",
        "        best_struc = new_node\n",
        "  return best_score, best_struc"
      ]
    },
    {
      "cell_type": "code",
      "execution_count": null,
      "metadata": {
        "colab": {
          "base_uri": "https://localhost:8080/",
          "height": 381
        },
        "id": "iR9mbnBw7UZv",
        "outputId": "cf882000-f2ce-45c7-b940-a64c66285fab"
      },
      "outputs": [],
      "source": [
        "#A quick test of our previous algorithm\n",
        "tree_tuple = ((4, 5), (6, ((7, 8), (3, (2, (0, 1))))))\n",
        "tree = TreeNode.from_tuple(tree_tuple)\n",
        "tree.dot()"
      ]
    },
    {
      "cell_type": "code",
      "execution_count": null,
      "metadata": {
        "colab": {
          "base_uri": "https://localhost:8080/",
          "height": 326
        },
        "id": "yE9Z-cc88giv",
        "outputId": "2d1fc03c-a169-4ffc-fbeb-baa0a1ade212"
      },
      "outputs": [],
      "source": [
        "new_tree = prune_and_regrapht(tree)\n",
        "new_tree.dot()"
      ]
    },
    {
      "cell_type": "markdown",
      "metadata": {
        "id": "Sjp4b7f0xEbM"
      },
      "source": [
        "# Generation of inputs"
      ]
    },
    {
      "cell_type": "code",
      "execution_count": null,
      "metadata": {
        "colab": {
          "base_uri": "https://localhost:8080/"
        },
        "id": "3H5QPKxRwsJI",
        "outputId": "d46f5f2f-fe66-4d3b-c252-1717f4d7b45b"
      },
      "outputs": [],
      "source": [
        "def generate_seq_aligned_naive(n,k):\n",
        "    \"\"\"\n",
        "    Generates an aligned set of k sequences of length n\n",
        "\n",
        "    Input -> n : the length of the desired alignment\n",
        "             k : the number of sequences in the alignment\n",
        "\n",
        "    Output -> alignment : an array containing all the sequences aligned\n",
        "\n",
        "    \"\"\"\n",
        "    alignment = []\n",
        "    bases = [\"A\", \"C\", \"T\", \"G\"]\n",
        "    epsilon_indel = 0.05\n",
        "    epsilon_mut = 0.1\n",
        "    seq = \"\"\n",
        "    for _ in range(n):\n",
        "        if np.random.rand()<epsilon_indel:\n",
        "            seq+=\"-\"\n",
        "        else :\n",
        "            i = np.random.randint(4)\n",
        "            seq+=bases[i]\n",
        "    alignment.append(seq)\n",
        "    for _ in range(k-1):\n",
        "        seq = \"\"\n",
        "        for j in range(n):\n",
        "            if np.random.rand()<epsilon_indel:\n",
        "                seq = seq + \"-\"\n",
        "            elif np.random.rand()<epsilon_mut :\n",
        "                i = np.random.randint(4)\n",
        "                seq = seq+ bases[i]\n",
        "            else :\n",
        "                seq= seq + alignment[0][j]\n",
        "        alignment.append(seq)\n",
        "    return alignment\n",
        "\n",
        "print(generate_seq_aligned_naive(15,4))"
      ]
    },
    {
      "cell_type": "code",
      "execution_count": null,
      "metadata": {
        "colab": {
          "base_uri": "https://localhost:8080/"
        },
        "id": "23DRFHSCwusI",
        "outputId": "26a5d74c-7b8e-4cc0-e5c4-3f6c841b4075"
      },
      "outputs": [],
      "source": [
        "def generate_seq_aligned(n,k):\n",
        "    \"\"\"\n",
        "    Generates an aligned set of k sequences of length n but differentiates the probabilities of extending and creating a gap\n",
        "\n",
        "    Input -> n : the length of the desired alignment\n",
        "             k : the number of sequences in the alignment\n",
        "\n",
        "    Output -> alignment : an array containing all the sequences aligned\n",
        "\n",
        "    \"\"\"\n",
        "    alignment = []\n",
        "    bases = [\"A\", \"C\", \"T\", \"G\"]\n",
        "    epsilon_indel = 0.05\n",
        "    epsilon_mut = 0.1\n",
        "    seq = \"\"\n",
        "    for _ in range(n):\n",
        "        if np.random.rand()<epsilon_indel:\n",
        "            seq+=\"-\"\n",
        "            if epsilon_indel == 0.05:\n",
        "                epsilon_indel = 0.4\n",
        "            else :\n",
        "                epsilon_indel = epsilon_indel * 0.9\n",
        "        else :\n",
        "            if epsilon_indel != 0.05:\n",
        "              epsilon_indel = 0.05\n",
        "            i = np.random.randint(4)\n",
        "            seq+=bases[i]\n",
        "    alignment.append(seq)\n",
        "    for _ in range(k-1):\n",
        "        seq = \"\"\n",
        "        for j in range(n):\n",
        "            if np.random.rand()<epsilon_indel:\n",
        "                seq = seq + \"-\"\n",
        "                if epsilon_indel == 0.05:\n",
        "                    epsilon_indel = 0.4\n",
        "                else :\n",
        "                    epsilon_indel = epsilon_indel * 0.9\n",
        "            elif np.random.rand()<epsilon_mut or (alignment[0][j]==\"-\" and np.random.rand()<0.7):\n",
        "                if epsilon_indel != 0.05:\n",
        "                  epsilon_indel = 0.05\n",
        "                i = np.random.randint(4)\n",
        "                seq = seq+ bases[i]\n",
        "            else :\n",
        "                if epsilon_indel != 0.05:\n",
        "                  epsilon_indel = 0.05\n",
        "                seq= seq + alignment[0][j]\n",
        "        alignment.append(seq)\n",
        "    return alignment\n",
        "\n",
        "print(generate_seq_aligned(15,4))"
      ]
    },
    {
      "cell_type": "code",
      "execution_count": null,
      "metadata": {
        "colab": {
          "base_uri": "https://localhost:8080/"
        },
        "id": "JZdWaK5Kww4m",
        "outputId": "40a9dd8f-33ab-4f2b-c9d0-5f9f664493d4"
      },
      "outputs": [],
      "source": [
        "def generate_seq_unaligned_naive(n,k):\n",
        "    \"\"\"\n",
        "    Generates a set of k unaligned sequences of size approximately n\n",
        "\n",
        "    Input -> n : the approximated length of the desired alignment\n",
        "             k : the number of sequences in the alignment\n",
        "\n",
        "    Output -> alignment : an array containing all the sequences aligned\n",
        "\n",
        "    \"\"\"\n",
        "    alignment = []\n",
        "    bases = [\"A\", \"C\", \"T\", \"G\"]\n",
        "    epsilon_mut = 0.05\n",
        "    seq = \"\"\n",
        "    sigma = n//8\n",
        "    length = int(np.random.normal(loc = n, scale = sigma))\n",
        "    for _ in range(length):\n",
        "        i = np.random.randint(4)\n",
        "        seq+=bases[i]\n",
        "    alignment.append(seq)\n",
        "    for _ in range(k-1):\n",
        "        seq = \"\"\n",
        "        length = int(np.random.normal(loc = n, scale = sigma))\n",
        "        for j in range(length):\n",
        "            if np.random.rand()<epsilon_mut or j >= len(alignment[0]):\n",
        "                i = np.random.randint(4)\n",
        "                seq = seq+ bases[i]\n",
        "            else :\n",
        "                seq= seq + alignment[0][j]\n",
        "        alignment.append(seq)\n",
        "    return alignment\n",
        "\n",
        "print(generate_seq_unaligned_naive(20,4))"
      ]
    },
    {
      "cell_type": "markdown",
      "metadata": {
        "id": "9h6VJ0CZsI6g"
      },
      "source": [
        "## Using BioPython :"
      ]
    },
    {
      "cell_type": "code",
      "execution_count": null,
      "metadata": {
        "colab": {
          "base_uri": "https://localhost:8080/"
        },
        "id": "qtWypOATsOLR",
        "outputId": "b0383b7a-fb63-4e5b-8a44-97113d4b12ca"
      },
      "outputs": [],
      "source": [
        "def extend_or_truncate_sequence(reference_seq, target_length):\n",
        "    \"\"\"\n",
        "    Extends or truncates a reference sequence to the length target_length\n",
        "\n",
        "    Args:\n",
        "      reference_seq : the sequence to modify\n",
        "      target_length : the length to obtain\n",
        "\n",
        "    Returns:\n",
        "      extended_seq : the modified version of reference_seq with len(extended_seq) = target_length\n",
        "    \"\"\"\n",
        "    seq_len = len(reference_seq)\n",
        "    if seq_len < target_length:\n",
        "        factor = (target_length + seq_len - 1) // seq_len\n",
        "        extended_seq = (reference_seq * factor)[:target_length]\n",
        "    else:\n",
        "        extended_seq = reference_seq[:target_length]\n",
        "    return extended_seq\n",
        "\n",
        "\n",
        "def generate_similar_sequences(reference_seq, num_sequences, mutation_rate, target_length):\n",
        "    \"\"\"\n",
        "    Generates a set of num_sequences similar to the sequence reference_seq of length target_length\n",
        "\n",
        "    Args:\n",
        "      reference_seq : the reference sequence for our generation\n",
        "      num_sequences : the number of sequences we want in our set\n",
        "      mutation_rate : the rate of mutation in our set\n",
        "      target_length : the length of each sequence in our set\n",
        "\n",
        "    Returns:\n",
        "      sequences : a list containing our set of sequences\n",
        "    \"\"\"\n",
        "    extended_ref_seq = extend_or_truncate_sequence(reference_seq, target_length)\n",
        "    sequences = [extended_ref_seq]\n",
        "\n",
        "    for _ in range(num_sequences - 1):\n",
        "        new_seq = list(extended_ref_seq)\n",
        "        for i in range(target_length):\n",
        "            if rd.random() < mutation_rate:\n",
        "                bases = ['A', 'C', 'G', 'T']\n",
        "                bases.remove(extended_ref_seq[i])\n",
        "                new_base = rd.choice(bases)\n",
        "                new_seq[i] = new_base\n",
        "        sequences.append(Seq(''.join(new_seq)))\n",
        "\n",
        "    return sequences\n",
        "\n",
        "\n",
        "# Example\n",
        "reference_seq = Seq(\"ATCGATCGATCGATCG\")\n",
        "num_sequences = 5\n",
        "mutation_rate = 0.3\n",
        "target_length = 20\n",
        "\n",
        "similar_sequences = generate_similar_sequences(reference_seq, num_sequences, mutation_rate, target_length)\n",
        "for seq in similar_sequences:\n",
        "    print(seq)\n"
      ]
    },
    {
      "cell_type": "markdown",
      "metadata": {
        "id": "2XDAep_DwMuX"
      },
      "source": [
        "# NNI on our generated sequences"
      ]
    },
    {
      "cell_type": "markdown",
      "metadata": {
        "id": "xDpfUCJ4biHB"
      },
      "source": [
        "## Testing NNI"
      ]
    },
    {
      "cell_type": "code",
      "execution_count": null,
      "metadata": {
        "colab": {
          "base_uri": "https://localhost:8080/",
          "height": 248
        },
        "id": "ItvjyHuqbk6Z",
        "outputId": "57ba8127-e8af-4104-fc50-eb6759dfa6ac"
      },
      "outputs": [],
      "source": [
        "#Generate sequences using biopython\n",
        "reference_seq = Seq(\"ATCGATCGATCGATCG\")\n",
        "num_sequences = 5\n",
        "mutation_rate = 0.3\n",
        "\n",
        "similar_sequences = generate_similar_sequences(reference_seq, num_sequences, mutation_rate, 20)\n",
        "\n",
        "#Build a tree\n",
        "w = example_w\n",
        "matrix = distance_matrix(similar_sequences, w)\n",
        "guide_tree_ = guide_tree(similar_sequences, w)\n",
        "guide_tree_node = TreeNode.from_tuple(guide_tree_)\n",
        "\n",
        "#NNI\n",
        "aligned_sequences, _ = progressive_alignment(similar_sequences, w)\n",
        "subtrees_all = nni_node_all(guide_tree_node)\n",
        "\n",
        "#Best score\n",
        "best_score_all = np.Inf\n",
        "best_tree=subtrees_all[0]\n",
        "for subtree in subtrees_all :\n",
        "  _, score = small_parsimony(aligned_sequences, subtree.to_tuple())\n",
        "  if score < best_score_all :\n",
        "      print(\"New best score: \", score)\n",
        "      best_score_all = score\n",
        "      best_tree=subtree\n",
        "print(\"Best structure:\", best_tree)\n",
        "print(\"Best score:\", best_score_all)\n",
        "best_tree.dot()\n"
      ]
    },
    {
      "cell_type": "markdown",
      "metadata": {
        "id": "ANLBBI_ryA1c"
      },
      "source": [
        "In this small example, the test browse all the possible subtrees and pick the best one. This strategy is brute-force."
      ]
    },
    {
      "cell_type": "markdown",
      "metadata": {
        "id": "HjV2ljp176eM"
      },
      "source": [
        "## Testing NNI optimized"
      ]
    },
    {
      "cell_type": "code",
      "execution_count": null,
      "metadata": {
        "colab": {
          "base_uri": "https://localhost:8080/",
          "height": 231
        },
        "id": "QI2zHZS46FAG",
        "outputId": "3b989928-7c7b-4310-c453-b5ee2c5d21dc"
      },
      "outputs": [],
      "source": [
        "#Generate sequences using biopython\n",
        "reference_seq = Seq(\"ATCGATCGATCGATCG\")\n",
        "num_sequences = 5\n",
        "mutation_rate = 0.3\n",
        "\n",
        "similar_sequences = generate_similar_sequences(reference_seq, num_sequences, mutation_rate, 20)\n",
        "\n",
        "#Build a tree\n",
        "w = example_w\n",
        "matrix = distance_matrix(similar_sequences, w)\n",
        "guide_tree_ = guide_tree(similar_sequences, w)\n",
        "guide_tree_node = TreeNode.from_tuple(guide_tree_)\n",
        "\n",
        "#Alignment\n",
        "aligned_sequences, _ = progressive_alignment(similar_sequences, w)\n",
        "\n",
        "#NNI node optimized\n",
        "best_score, best_structure = nni_node_optimized(guide_tree_node, aligned_sequences)\n",
        "print(\"Best structure:\", best_structure)\n",
        "print(\"Best score:\", best_score)\n",
        "best_structure.dot()\n"
      ]
    },
    {
      "cell_type": "markdown",
      "metadata": {
        "id": "Z5iRzfn0yckJ"
      },
      "source": [
        "Here, this version of the nearsest neighbor interchange strategy is greedy. At each depth or branch of the tree we only pick the subtree with the minimal parsimony score instead of trying all the possible subtrees. This version is quicker as we skip a lot of subtrees but might not be optimal. In order to reach the global minimum, we might go through a local maximum."
      ]
    },
    {
      "cell_type": "markdown",
      "metadata": {
        "id": "40TvmL0uNFUf"
      },
      "source": [
        "# Comparison of naive NNI and NNI optimized"
      ]
    },
    {
      "cell_type": "code",
      "execution_count": null,
      "metadata": {
        "colab": {
          "base_uri": "https://localhost:8080/",
          "height": 589
        },
        "id": "LKUoCtUtNNs3",
        "outputId": "de992c1e-567c-42fd-c2cb-e7acb370ca03"
      },
      "outputs": [],
      "source": [
        "reference_seq = Seq(\"ATCGATCGATCGATCG\")\n",
        "def compare_nni_functions(sequence_lengths, num_sequences=5, mutation_rate=0.3):\n",
        "    \"\"\"\n",
        "    A function wich compares the performance of our algorithms nni_all and nni_optimized on random generated sets of sequences\n",
        "\n",
        "    Args:\n",
        "      sequence_lengths : a list of the length of the sequences in our generated sets\n",
        "      num_sequences : the number of sequences in our generated set (5 by default)\n",
        "      mutation_rate : the mutation rate in our set (0.3 by default)\n",
        "\n",
        "    Returns:\n",
        "      sequence_length : the length of our sequences (the same value as our argument)\n",
        "      times_all : a list the execution time of our algorithm nni_all for each set\n",
        "      times_optimized : a list the execution time of our algorithm nni_optimized for each set\n",
        "      scores_all : a list of the best score found by nni_all for each set\n",
        "      scores_optimized : a list of the best score found by nni_optimized for each set\n",
        "    \"\"\"\n",
        "    times_all = []\n",
        "    times_optimized = []\n",
        "    scores_all = []\n",
        "    scores_optimized = []\n",
        "\n",
        "    for length in sequence_lengths: # For each set\n",
        "        similar_sequences = generate_similar_sequences(reference_seq, num_sequences, mutation_rate, length)\n",
        "        msa, _ = progressive_alignment(similar_sequences, example_w)\n",
        "        guide_tree_ = guide_tree(similar_sequences, example_w)\n",
        "        guide_tree_node = TreeNode.from_tuple(guide_tree_)\n",
        "\n",
        "        start_time_all = time.time()\n",
        "        subtrees_all = nni_node_all(guide_tree_node)\n",
        "        best_score_all = np.Inf\n",
        "        for subtree in subtrees_all :\n",
        "          _, score = small_parsimony(msa, subtree.to_tuple())\n",
        "          if score < best_score_all : #Only keeps the best score\n",
        "            best_score_all = score\n",
        "        end_time_all = time.time()\n",
        "\n",
        "        start_time_opt = time.time()\n",
        "        best_score_opt, _ = nni_node_optimized(guide_tree_node, msa)\n",
        "        end_time_opt = time.time()\n",
        "\n",
        "        times_all.append(end_time_all - start_time_all)\n",
        "        times_optimized.append(end_time_opt - start_time_opt)\n",
        "        scores_all.append(best_score_all)\n",
        "        scores_optimized.append(best_score_opt)\n",
        "\n",
        "    return sequence_lengths, times_all, times_optimized, scores_all, scores_optimized\n",
        "\n",
        "sequence_lengths = [100, 200, 300]\n",
        "results = compare_nni_functions(sequence_lengths)\n",
        "lengths, times_all, times_optimized, scores_all, scores_optimized = results\n",
        "\n",
        "plt.figure(figsize=(14, 6))\n",
        "\n",
        "plt.subplot(1, 2, 1)\n",
        "plt.plot(lengths, times_all, label='NNI All', marker='o')\n",
        "plt.plot(lengths, times_optimized, label='NNI Optimized', marker='o')\n",
        "plt.xlabel('Length of Sequence')\n",
        "plt.ylabel('Execution Time (s)')\n",
        "plt.title('Execution Time Comparison')\n",
        "plt.legend()\n",
        "plt.grid(True)\n",
        "\n",
        "plt.subplot(1, 2, 2)\n",
        "plt.plot(lengths, scores_all, label='NNI All', marker='o')\n",
        "plt.plot(lengths, scores_optimized, label='NNI Optimized', marker='o')\n",
        "plt.xlabel('Length of Sequence')\n",
        "plt.ylabel('Best Score')\n",
        "plt.title('Best Score Comparison')\n",
        "plt.legend()\n",
        "plt.grid(True)\n",
        "\n",
        "plt.tight_layout()\n",
        "plt.show()\n"
      ]
    },
    {
      "cell_type": "markdown",
      "metadata": {
        "id": "_ZpRVMP3zLnZ"
      },
      "source": [
        "In this test, we can observe that both the brute-force and the greedy strategies produce the same results. Thus, they are very efficient. As for the execution time, the greedy strategy seems more expensive in computation time. This might be dure to the extra comparisons required at each branch of the tree exploration."
      ]
    },
    {
      "cell_type": "markdown",
      "metadata": {
        "id": "-osacV6VSNqk"
      },
      "source": [
        "# Comparison between nni_all and prune_and_regrapht"
      ]
    },
    {
      "cell_type": "code",
      "execution_count": null,
      "metadata": {
        "colab": {
          "base_uri": "https://localhost:8080/",
          "height": 674
        },
        "id": "DSNHWCKnSS-3",
        "outputId": "09f75490-0ddc-46fb-c910-567911cfb38c"
      },
      "outputs": [],
      "source": [
        "reference_seq = Seq(\"ATCGATCGATCGATCG\")\n",
        "def compare_nni_prune_functions(sequence_lengths, num_sequences=5, mutation_rate=0.3, n_prune = 10):\n",
        "    \"\"\"\n",
        "    A function wich compares the performance of our algorithms nni and prune_and_regrapht on random generated sets of sequences\n",
        "\n",
        "    Args:\n",
        "      sequence_lengths : a list of the length of the sequences in our generated sets\n",
        "      num_sequences : the number of sequences in our generated set (5 by default)\n",
        "      mutation_rate : the mutation rate in our set (0.3 by default)\n",
        "      n_prune : the number of subtrees we want to move in our prune_and_regrapht method (10 by default)\n",
        "\n",
        "    Returns:\n",
        "      sequence_length : the length of our sequences (the same value as our argument)\n",
        "      times_all : a list the execution time of our algorithm nni_all for each set\n",
        "      times_prune : a list the execution time of our algorithm prune_and_regrapht for each set\n",
        "      scores_all : a list of the best score found by nni_all for each set\n",
        "      scores_prune : a list of the best score found by prune_and_regrapht for each set\n",
        "    \"\"\"\n",
        "    times_all = []\n",
        "    times_prune = []\n",
        "    scores_all = []\n",
        "    scores_prune = []\n",
        "\n",
        "    for length in sequence_lengths:\n",
        "        similar_sequences = generate_similar_sequences(reference_seq, num_sequences, mutation_rate, length)\n",
        "        msa, _ = progressive_alignment(similar_sequences, example_w)\n",
        "        guide_tree_ = guide_tree(similar_sequences, example_w)\n",
        "        guide_tree_node = TreeNode.from_tuple(guide_tree_)\n",
        "\n",
        "        start_time_all = time.time()\n",
        "        subtrees_all = nni_node_all(guide_tree_node)\n",
        "        best_score_all = np.Inf\n",
        "        for subtree in subtrees_all :\n",
        "          _, score = small_parsimony(msa, subtree.to_tuple())\n",
        "          if score < best_score_all :\n",
        "            best_score_all = score\n",
        "        end_time_all = time.time()\n",
        "\n",
        "        start_time_prune = time.time()\n",
        "        best_score_prune, _ = prune_and_regrapht_exhaustive(guide_tree_node, n_prune, msa)\n",
        "        end_time_prune = time.time()\n",
        "\n",
        "        times_all.append(end_time_all - start_time_all)\n",
        "        times_prune.append(end_time_prune - start_time_prune)\n",
        "        scores_all.append(best_score_all)\n",
        "        scores_prune.append(best_score_prune)\n",
        "\n",
        "        print(f'Best score prune = {best_score_prune} and Best score NNI = {best_score_all}')\n",
        "\n",
        "    return sequence_lengths, times_all, times_prune, scores_all, scores_prune\n",
        "\n",
        "sequence_lengths = [100, 200, 300, 400, 500]\n",
        "results = compare_nni_prune_functions(sequence_lengths)\n",
        "lengths, times_all, times_prune, scores_all, scores_prune = results\n",
        "\n",
        "plt.figure(figsize=(14, 6))\n",
        "\n",
        "plt.subplot(1, 2, 1)\n",
        "plt.plot(lengths, times_all, label='NNI All', marker='o')\n",
        "plt.plot(lengths, times_prune, label='Prune and Regrapht', marker='o')\n",
        "plt.xlabel('Length of Sequence')\n",
        "plt.ylabel('Execution Time (s)')\n",
        "plt.title('Execution Time Comparison')\n",
        "plt.legend()\n",
        "plt.grid(True)\n",
        "\n",
        "plt.subplot(1, 2, 2)\n",
        "plt.plot(lengths, scores_all, label='NNI All', marker='o')\n",
        "plt.plot(lengths, scores_prune, label='Prune and Regrapht', marker='o')\n",
        "plt.xlabel('Length of Sequence')\n",
        "plt.ylabel('Best Score')\n",
        "plt.title('Best Score Comparison')\n",
        "plt.legend()\n",
        "plt.grid(True)\n",
        "\n",
        "plt.tight_layout()\n",
        "plt.show()"
      ]
    },
    {
      "cell_type": "markdown",
      "metadata": {
        "id": "PmyYQ_8tz9nh"
      },
      "source": [
        "In this test, we compare the brute-force nearest neighbor strategy against the prune and regrapht strategy. The version of the prune and regrapht strategy is also greedy because we repeat `n_prune` times the following process. We randomly pick a subtree and we find its best location in terms of parsimony score. This strategy has more possibilities anbd is thus more expensive in computation time. However, it produces better results."
      ]
    },
    {
      "cell_type": "markdown",
      "metadata": {
        "id": "wAygsyFFMjuy"
      },
      "source": [
        "# NNI Performance"
      ]
    },
    {
      "cell_type": "markdown",
      "metadata": {
        "id": "gcEkxtQSc3sf"
      },
      "source": [
        "## NNI_all"
      ]
    },
    {
      "cell_type": "markdown",
      "metadata": {
        "id": "AdOwuK35c8ob"
      },
      "source": [
        "Studying NNI behavior on generated sequences of different sizes"
      ]
    },
    {
      "cell_type": "code",
      "execution_count": null,
      "metadata": {
        "colab": {
          "base_uri": "https://localhost:8080/",
          "height": 674
        },
        "id": "xnCElk3Uc6PB",
        "outputId": "b6819139-a111-47bc-aed0-f86735ba75fe"
      },
      "outputs": [],
      "source": [
        "reference_seq = Seq(\"ATCGATCGATCGATCG\")\n",
        "def profile_performance(sequence_lengths, num_sequences=5, mutation_rate=0.3):\n",
        "    times = []\n",
        "    best_scores = []\n",
        "    for length in sequence_lengths:\n",
        "        similar_sequences = generate_similar_sequences(reference_seq, num_sequences, mutation_rate, length)\n",
        "\n",
        "        w = example_w\n",
        "        matrix = distance_matrix(similar_sequences, w)\n",
        "        msa, _ = progressive_alignment(similar_sequences, example_w)\n",
        "        guide_tree_ = guide_tree(similar_sequences, w)\n",
        "        guide_tree_node = TreeNode.from_tuple(guide_tree_)\n",
        "\n",
        "        start_time = time.time()\n",
        "        subtrees_all = nni_node_all(guide_tree_node)\n",
        "        best_score = np.Inf\n",
        "        for subtree in subtrees_all :\n",
        "          _, score = small_parsimony(msa, subtree.to_tuple())\n",
        "          if score < best_score :\n",
        "            best_score = score\n",
        "        end_time = time.time()\n",
        "\n",
        "        times.append(end_time - start_time)\n",
        "        best_scores.append(best_score)\n",
        "\n",
        "        print(f\"Length: {length}, Time: {end_time - start_time} seconds, Best Score: {best_score}\")\n",
        "    return sequence_lengths, times, best_scores\n",
        "\n",
        "sequence_lengths = [100, 200, 300, 400, 500]\n",
        "lengths, times, best_scores = profile_performance(sequence_lengths)\n",
        "\n",
        "plt.figure(figsize=(14, 6))\n",
        "\n",
        "plt.subplot(1, 2, 1)\n",
        "plt.plot(lengths, times, marker='o')\n",
        "plt.title('Execution time per sequence length')\n",
        "plt.xlabel('Sequence length')\n",
        "plt.ylabel('Execution time (s)')\n",
        "plt.grid(True)\n",
        "\n",
        "plt.subplot(1, 2, 2)\n",
        "plt.plot(lengths, best_scores, marker='o', color='red')\n",
        "plt.title('Best score per sequence length')\n",
        "plt.xlabel('Sequence length')\n",
        "plt.ylabel('Best score')\n",
        "plt.grid(True)\n",
        "\n",
        "plt.tight_layout()\n",
        "plt.show()"
      ]
    },
    {
      "cell_type": "markdown",
      "metadata": {
        "id": "bAqGCQdS0u83"
      },
      "source": [
        "Both the execution time and the parsimony scores increase linearly with the sequence length."
      ]
    },
    {
      "cell_type": "markdown",
      "metadata": {
        "id": "SxK8bAdRdv0g"
      },
      "source": [
        "Studying NNI behavior on generated sequences with different mutation rates"
      ]
    },
    {
      "cell_type": "code",
      "execution_count": null,
      "metadata": {
        "colab": {
          "base_uri": "https://localhost:8080/",
          "height": 708
        },
        "id": "bXVACB6BdvOa",
        "outputId": "3f2c4191-0267-4475-b551-02756145038e"
      },
      "outputs": [],
      "source": [
        "reference_seq = Seq(\"ATCGATCGATCGATCG\")\n",
        "def profile_performance( mutation_rates, sequence_length=200, num_sequences=5):\n",
        "    times = []\n",
        "    best_scores = []\n",
        "    for mutation_rate in mutation_rates:\n",
        "        similar_sequences = generate_similar_sequences(reference_seq, num_sequences, mutation_rate, sequence_length)\n",
        "\n",
        "        w = example_w\n",
        "        matrix = distance_matrix(similar_sequences, w)\n",
        "        msa, _ = progressive_alignment(similar_sequences, example_w)\n",
        "        guide_tree_ = guide_tree(similar_sequences, w)\n",
        "        guide_tree_node = TreeNode.from_tuple(guide_tree_)\n",
        "\n",
        "        start_time = time.time()\n",
        "        subtrees_all = nni_node_all(guide_tree_node)\n",
        "        best_score = np.Inf\n",
        "        for subtree in subtrees_all :\n",
        "          _, score = small_parsimony(msa, subtree.to_tuple())\n",
        "          if score < best_score :\n",
        "            best_score = score\n",
        "        end_time = time.time()\n",
        "\n",
        "        times.append(end_time - start_time)\n",
        "        best_scores.append(best_score)\n",
        "\n",
        "        print(f\"Mutation rate: {mutation_rate}, Time: {end_time - start_time} seconds, Best Score: {best_score}\")\n",
        "    return mutation_rates, times, best_scores\n",
        "\n",
        "mutation_rates = [0.001, 0.01, 0.05, 0.1, 0.3, 0.5, 0.9]\n",
        "mutation_rates, times, best_scores = profile_performance(mutation_rates)\n",
        "\n",
        "plt.figure(figsize=(14, 6))\n",
        "\n",
        "plt.subplot(1, 2, 1)\n",
        "plt.plot(mutation_rates, times, marker='o')\n",
        "plt.title('Execution time per mutation rate')\n",
        "plt.xlabel('Mutation rate')\n",
        "plt.ylabel('Execution time (s)')\n",
        "plt.grid(True)\n",
        "\n",
        "plt.subplot(1, 2, 2)\n",
        "plt.plot(mutation_rates, best_scores, marker='o', color='red')\n",
        "plt.title('Best score per mutation rate')\n",
        "plt.xlabel('Mutation rate')\n",
        "plt.ylabel('Best score')\n",
        "plt.grid(True)\n",
        "\n",
        "plt.tight_layout()\n",
        "plt.show()"
      ]
    },
    {
      "cell_type": "markdown",
      "metadata": {
        "id": "5V3hRx6p08Y7"
      },
      "source": [
        "Both the execution time and the parsimony scores increase and then reach a plateau with the mutation rate."
      ]
    },
    {
      "cell_type": "markdown",
      "metadata": {
        "id": "SQpAF2j3cypJ"
      },
      "source": [
        "## NNI_optimized"
      ]
    },
    {
      "cell_type": "markdown",
      "metadata": {
        "id": "IhxNke0lEx2s"
      },
      "source": [
        "Studying NNI behavior on generated sequences of different sizes"
      ]
    },
    {
      "cell_type": "code",
      "execution_count": null,
      "metadata": {
        "colab": {
          "base_uri": "https://localhost:8080/",
          "height": 674
        },
        "id": "bXwMa-pYE5Wq",
        "outputId": "01ff9f53-3650-4491-8dae-9ed6cc8aaf5c"
      },
      "outputs": [],
      "source": [
        "reference_seq = Seq(\"ATCGATCGATCGATCG\")\n",
        "def profile_performance(sequence_lengths, num_sequences=5, mutation_rate=0.3):\n",
        "    times = []\n",
        "    best_scores = []\n",
        "    for length in sequence_lengths:\n",
        "        similar_sequences = generate_similar_sequences(reference_seq, num_sequences, mutation_rate, length)\n",
        "\n",
        "        w = example_w\n",
        "        matrix = distance_matrix(similar_sequences, w)\n",
        "        guide_tree_ = guide_tree(similar_sequences, w)\n",
        "        guide_tree_node = TreeNode.from_tuple(guide_tree_)\n",
        "\n",
        "        msa, _ = progressive_alignment(similar_sequences, w)\n",
        "\n",
        "        start_time = time.time()\n",
        "        best_score, best_structure = nni_node_optimized(guide_tree_node, msa)\n",
        "        end_time = time.time()\n",
        "\n",
        "        times.append(end_time - start_time)\n",
        "        best_scores.append(best_score)\n",
        "\n",
        "        print(f\"Length: {length}, Time: {end_time - start_time} seconds, Best Score: {best_score}\")\n",
        "    return sequence_lengths, times, best_scores\n",
        "\n",
        "sequence_lengths = [100, 200, 300, 400, 500]\n",
        "lengths, times, best_scores = profile_performance(sequence_lengths)\n",
        "\n",
        "plt.figure(figsize=(14, 6))\n",
        "\n",
        "plt.subplot(1, 2, 1)\n",
        "plt.plot(lengths, times, marker='o')\n",
        "plt.title('Execution time per sequence length')\n",
        "plt.xlabel('Sequence length')\n",
        "plt.ylabel('Execution time (s)')\n",
        "plt.grid(True)\n",
        "\n",
        "plt.subplot(1, 2, 2)\n",
        "plt.plot(lengths, best_scores, marker='o', color='red')\n",
        "plt.title('Best score per sequence length')\n",
        "plt.xlabel('Sequence length')\n",
        "plt.ylabel('Best score')\n",
        "plt.grid(True)\n",
        "\n",
        "plt.tight_layout()\n",
        "plt.show()\n"
      ]
    },
    {
      "cell_type": "markdown",
      "metadata": {
        "id": "aHCn9Bw_1DPP"
      },
      "source": [
        "Both the execution time and the parsimony scores increase linearly with the sequence length."
      ]
    },
    {
      "cell_type": "markdown",
      "metadata": {
        "id": "dwXs3BddKXec"
      },
      "source": [
        "Studying NNI behavior on generated sequences with different mutation rates"
      ]
    },
    {
      "cell_type": "code",
      "execution_count": null,
      "metadata": {
        "colab": {
          "base_uri": "https://localhost:8080/",
          "height": 707
        },
        "id": "bGxSFVf3KeEO",
        "outputId": "65f1869e-8a1d-407d-8044-13742b6bf68c"
      },
      "outputs": [],
      "source": [
        "reference_seq = Seq(\"ATCGATCGATCGATCG\")\n",
        "def profile_performance( mutation_rates, sequence_length=200, num_sequences=5):\n",
        "    times = []\n",
        "    best_scores = []\n",
        "    for mutation_rate in mutation_rates:\n",
        "        similar_sequences = generate_similar_sequences(reference_seq, num_sequences, mutation_rate, sequence_length)\n",
        "\n",
        "        w = example_w\n",
        "        matrix = distance_matrix(similar_sequences, w)\n",
        "        guide_tree_ = guide_tree(similar_sequences, w)\n",
        "        guide_tree_node = TreeNode.from_tuple(guide_tree_)\n",
        "\n",
        "        msa, _ = progressive_alignment(similar_sequences, w)\n",
        "\n",
        "        start_time = time.time()\n",
        "        best_score, best_structure = nni_node_optimized(guide_tree_node, msa)\n",
        "        end_time = time.time()\n",
        "\n",
        "        times.append(end_time - start_time)\n",
        "        best_scores.append(best_score)\n",
        "\n",
        "        print(f\"Mutation rate: {mutation_rate}, Time: {end_time - start_time} seconds, Best Score: {best_score}\")\n",
        "    return mutation_rates, times, best_scores\n",
        "\n",
        "mutation_rates = [0.001, 0.01, 0.05, 0.1, 0.3, 0.5, 0.9]\n",
        "mutation_rates, times, best_scores = profile_performance(mutation_rates)\n",
        "\n",
        "plt.figure(figsize=(14, 6))\n",
        "\n",
        "plt.subplot(1, 2, 1)\n",
        "plt.plot(mutation_rates, times, marker='o')\n",
        "plt.title('Execution time per mutation rate')\n",
        "plt.xlabel('Mutation rate')\n",
        "plt.ylabel('Execution time (s)')\n",
        "plt.grid(True)\n",
        "\n",
        "plt.subplot(1, 2, 2)\n",
        "plt.plot(mutation_rates, best_scores, marker='o', color='red')\n",
        "plt.title('Best score per mutation rate')\n",
        "plt.xlabel('Mutation rate')\n",
        "plt.ylabel('Best score')\n",
        "plt.grid(True)\n",
        "\n",
        "plt.tight_layout()\n",
        "plt.show()"
      ]
    },
    {
      "cell_type": "markdown",
      "metadata": {
        "id": "X-FPXidm1F0o"
      },
      "source": [
        "Both the execution time and the parsimony scores increase linearly with the mutation rate. Overall, we get almost the same results for both the greedy and the brute-force strategies and this might be due to the fact that our samples are too small and that these two options can not differentiate."
      ]
    },
    {
      "cell_type": "markdown",
      "metadata": {
        "id": "cNw66oTA_Qft"
      },
      "source": [
        "# Prune and regrapht performance"
      ]
    },
    {
      "cell_type": "code",
      "execution_count": null,
      "metadata": {
        "colab": {
          "base_uri": "https://localhost:8080/",
          "height": 674
        },
        "id": "7xKNxbJI_XAf",
        "outputId": "601abed7-5983-48ae-cb55-d6fbc9f2be64"
      },
      "outputs": [],
      "source": [
        "reference_seq = Seq(\"ATCGATCGATCGATCG\")\n",
        "def profile_performance(sequence_lengths, num_sequences=5, mutation_rate=0.3, n_prune=10):\n",
        "    times = []\n",
        "    best_scores = []\n",
        "    for length in sequence_lengths:\n",
        "        similar_sequences = generate_similar_sequences(reference_seq, num_sequences, mutation_rate, length)\n",
        "\n",
        "        w = example_w\n",
        "        matrix = distance_matrix(similar_sequences, w)\n",
        "        guide_tree_ = guide_tree(similar_sequences, w)\n",
        "        guide_tree_node = TreeNode.from_tuple(guide_tree_)\n",
        "\n",
        "        msa, _ = progressive_alignment(similar_sequences, w)\n",
        "\n",
        "        start_time = time.time()\n",
        "        best_score, _ = prune_and_regrapht_exhaustive(guide_tree_node, n_prune, msa)\n",
        "        end_time = time.time()\n",
        "\n",
        "        times.append(end_time - start_time)\n",
        "        best_scores.append(best_score)\n",
        "\n",
        "        print(f\"Length: {length}, Time: {end_time - start_time} seconds, Best Score: {best_score}\")\n",
        "    return sequence_lengths, times, best_scores\n",
        "\n",
        "sequence_lengths = [100, 200, 300, 400, 500]\n",
        "lengths, times, best_scores = profile_performance(sequence_lengths)\n",
        "\n",
        "plt.figure(figsize=(14, 6))\n",
        "\n",
        "plt.subplot(1, 2, 1)\n",
        "plt.plot(lengths, times, marker='o')\n",
        "plt.title('Execution time per sequence length')\n",
        "plt.xlabel('Sequence length')\n",
        "plt.ylabel('Execution time (s)')\n",
        "plt.grid(True)\n",
        "\n",
        "plt.subplot(1, 2, 2)\n",
        "plt.plot(lengths, best_scores, marker='o', color='red')\n",
        "plt.title('Best score per sequence length')\n",
        "plt.xlabel('Sequence length')\n",
        "plt.ylabel('Best score')\n",
        "plt.grid(True)\n",
        "\n",
        "plt.tight_layout()\n",
        "plt.show()\n"
      ]
    },
    {
      "cell_type": "markdown",
      "metadata": {
        "id": "H9Ho8vIW1csQ"
      },
      "source": [
        "Both the execution time and the parsimony scores increase almost linearly with the sequence length."
      ]
    },
    {
      "cell_type": "code",
      "execution_count": null,
      "metadata": {
        "colab": {
          "base_uri": "https://localhost:8080/",
          "height": 707
        },
        "id": "VnA6wRT3CXro",
        "outputId": "c3f24b4f-d94d-4b28-be15-8d6ffbc1ba21"
      },
      "outputs": [],
      "source": [
        "reference_seq = Seq(\"ATCGATCGATCGATCG\")\n",
        "def profile_performance( mutation_rates, sequence_length=200, num_sequences=5, n_prune=10):\n",
        "    times = []\n",
        "    best_scores = []\n",
        "    for mutation_rate in mutation_rates:\n",
        "        similar_sequences = generate_similar_sequences(reference_seq, num_sequences, mutation_rate, sequence_length)\n",
        "\n",
        "        w = example_w\n",
        "        matrix = distance_matrix(similar_sequences, w)\n",
        "        guide_tree_ = guide_tree(similar_sequences, w)\n",
        "        guide_tree_node = TreeNode.from_tuple(guide_tree_)\n",
        "\n",
        "        msa, _ = progressive_alignment(similar_sequences, w)\n",
        "\n",
        "        start_time = time.time()\n",
        "        best_score, best_structure = prune_and_regrapht_exhaustive(guide_tree_node, n_prune, msa)\n",
        "        end_time = time.time()\n",
        "\n",
        "        times.append(end_time - start_time)\n",
        "        best_scores.append(best_score)\n",
        "\n",
        "        print(f\"Mutation rate: {mutation_rate}, Time: {end_time - start_time} seconds, Best Score: {best_score}\")\n",
        "    return mutation_rates, times, best_scores\n",
        "\n",
        "mutation_rates = [0.001, 0.01, 0.05, 0.1, 0.3, 0.5, 0.9]\n",
        "mutation_rates, times, best_scores = profile_performance(mutation_rates)\n",
        "\n",
        "plt.figure(figsize=(14, 6))\n",
        "\n",
        "plt.subplot(1, 2, 1)\n",
        "plt.plot(mutation_rates, times, marker='o')\n",
        "plt.title('Execution time per mutation rate')\n",
        "plt.xlabel('Mutation rate')\n",
        "plt.ylabel('Execution time (s)')\n",
        "plt.grid(True)\n",
        "\n",
        "plt.subplot(1, 2, 2)\n",
        "plt.plot(mutation_rates, best_scores, marker='o', color='red')\n",
        "plt.title('Best score per mutation rate')\n",
        "plt.xlabel('Mutation rate')\n",
        "plt.ylabel('Best score')\n",
        "plt.grid(True)\n",
        "\n",
        "plt.tight_layout()\n",
        "plt.show()"
      ]
    },
    {
      "cell_type": "markdown",
      "metadata": {
        "id": "2UYPViPn1iH7"
      },
      "source": [
        "Both the execution time and the parsimony scores seem to increase and then reach a plateau with the mutation rate."
      ]
    },
    {
      "cell_type": "markdown",
      "metadata": {
        "id": "RfzZEHW2xGUc"
      },
      "source": [
        "# Tests on real alignments"
      ]
    },
    {
      "cell_type": "code",
      "execution_count": 30,
      "metadata": {
        "id": "U_Fl7npnxKvw"
      },
      "outputs": [],
      "source": [
        "def lire_fasta(nom_fichier):\n",
        "    \"\"\"\n",
        "    Read a fasta file\n",
        "\n",
        "    Args:\n",
        "      nomfichier : the path of the fasta file\n",
        "\n",
        "    Returns:\n",
        "      a list of the alignment sequences of the fasta file\n",
        "    \"\"\"\n",
        "    res = []\n",
        "    alignment = AlignIO.read(nom_fichier, \"fasta\")\n",
        "    for record in alignment:\n",
        "        res.append(str(record.seq))\n",
        "    return res\n",
        "\n",
        "def lire_stockholm(nom_fichier):\n",
        "    \"\"\"\n",
        "    Read a stockholm file\n",
        "\n",
        "    Args:\n",
        "      nomfichier : the path of the stockholm file\n",
        "\n",
        "    Returns:\n",
        "      a list of the alignment sequences of the stockholm file\n",
        "    \"\"\"\n",
        "    res = []\n",
        "    alignment = AlignIO.read(nom_fichier, \"stockholm\")\n",
        "    for record in alignment:\n",
        "        res.append(str(record.seq))\n",
        "    return res"
      ]
    },
    {
      "cell_type": "code",
      "execution_count": null,
      "metadata": {
        "colab": {
          "base_uri": "https://localhost:8080/",
          "height": 367
        },
        "id": "yEm11ALMzjdz",
        "outputId": "f18ffa39-d759-4748-d815-1c58e1b9d608"
      },
      "outputs": [],
      "source": [
        "# You have to download the following alignments before running the test :\n",
        "# \"5S_rRNA.apsi-54.sci-95.no-1.ref.fa\"\n",
        "# \"SRP_euk_arch.apsi-68.sci-83.no-1.ref.fa\"\n",
        "# \"SRP_euk_arch.apsi-34.sci-67.no-1.ref.fa\"\n",
        "\n",
        "def profile_performance_on_file(name_files, n_prune = 15):\n",
        "    \"\"\"\n",
        "    A function wich compares the performance of our algorithms nni and prune_and_regrapht on random generated sets of sequences\n",
        "\n",
        "    Args:\n",
        "      name_files : a list of couple containing : the name of each file we want to study, the type of the file (\"fa\" for a fasta file, \"stk\" for a stockholm file)\n",
        "      n_prune : the number of subtrees we want to move in our prune_and_regrapht method (15 by default)\n",
        "\n",
        "    Returns:\n",
        "      lengthandnumber : a list of the size (length of sequences * number of sequences) of each set\n",
        "      times : a list the execution time of our algorithm nni_all for each set\n",
        "      times_prune : a list the execution time of our algorithm prune_and_regrapht for each set\n",
        "      best_scores : a list of the best score found by nni_all for each set\n",
        "      best_scores_prune : a list of the best score found by prune_and_regrapht for each set\n",
        "    \"\"\"\n",
        "    times = []\n",
        "    times_prune = []\n",
        "    best_scores = []\n",
        "    best_scores_prune = []\n",
        "    lengthsandnumber = []\n",
        "    for file_name, ty in name_files:\n",
        "        similar_sequences = []\n",
        "        if ty == \"fa\":\n",
        "          similar_sequences = lire_fasta(file_name)\n",
        "        else :\n",
        "          similar_sequences = lire_stockholm(file_name)\n",
        "        w = example_w\n",
        "        matrix = distance_matrix(similar_sequences, w)\n",
        "        guide_tree_ = guide_tree(similar_sequences, w)\n",
        "        guide_tree_node = TreeNode.from_tuple(guide_tree_)\n",
        "\n",
        "        start_time = time.time()\n",
        "        best_score, best_structure = nni_node_optimized(guide_tree_node, similar_sequences)\n",
        "        end_time = time.time()\n",
        "\n",
        "        start_prune = time.time()\n",
        "        best_score2, best_structure2 = prune_and_regrapht_exhaustive(guide_tree_node, n_prune, msa)\n",
        "        end_prune = time.time()\n",
        "\n",
        "        times.append(end_time - start_time)\n",
        "        times_prune.append(end_prune - start_prune)\n",
        "        best_scores.append(best_score)\n",
        "        best_scores_prune.append(best_score2)\n",
        "        length = len(similar_sequences[0])\n",
        "        number = len(similar_sequences)\n",
        "        print(f\"Length: {length}, Time: {end_time - start_time} seconds, Best Score: {best_score}, Time Prune and Regrapht: {end_prune - start_prune} seconds, Best Score Prune and Regrapht: {best_score2}\")\n",
        "        lengthsandnumber.append((length*number))\n",
        "    return lengthsandnumber, times, times_prune, best_scores, best_scores_prune\n",
        "\n",
        "name_files = [(\"5S_rRNA.apsi-54.sci-95.no-1.ref.fa\", \"fa\"),  (\"SRP_euk_arch.apsi-68.sci-83.no-1.ref.fa\", \"fa\"),(\"SRP_euk_arch.apsi-34.sci-67.no-1.ref.fa\", \"fa\")]\n",
        "lengths, times, times_prune, best_scores, best_scores_prune = profile_performance_on_file(name_files)\n",
        "\n",
        "plt.figure(figsize=(14, 6))\n",
        "\n",
        "plt.subplot(1, 2, 1)\n",
        "plt.plot(lengths, times, label='NNI', marker='o', color = 'g')\n",
        "plt.plot(lengths, times_prune, label='Prune and Regrapht', marker='o', color = 'r')\n",
        "plt.title('Execution time per total length')\n",
        "plt.xlabel('Total length of the alignment')\n",
        "plt.ylabel('Execution time (s)')\n",
        "plt.legend()\n",
        "plt.grid(True)\n",
        "\n",
        "plt.subplot(1, 2, 2)\n",
        "plt.plot(lengths, best_scores, label='NNI', marker='o', color = 'g')\n",
        "plt.plot(lengths, best_scores_prune, label='Prune and Regrapht', marker='o', color = 'r')\n",
        "plt.title('Best score per total length')\n",
        "plt.xlabel('Total length of the alignment')\n",
        "plt.ylabel('Best score')\n",
        "plt.legend()\n",
        "plt.grid(True)\n",
        "\n",
        "plt.tight_layout()\n",
        "plt.show()\n"
      ]
    }
  ],
  "metadata": {
    "colab": {
      "collapsed_sections": [
        "_gaKW86-hlTr",
        "ZlS-fg7jjTHl",
        "UXJipATTgW5h",
        "foPNuQr1grde",
        "xl-B7t2XiOWf",
        "B29XE2QQimH3",
        "Uz8qi8oSbd6o",
        "1cHlHp2_oZd4",
        "1XCXdAh6DLx8",
        "QVrxmIUvDVsG",
        "GJnZxyRrFJhx",
        "Sjp4b7f0xEbM",
        "9h6VJ0CZsI6g",
        "2XDAep_DwMuX",
        "xDpfUCJ4biHB",
        "HjV2ljp176eM",
        "40TvmL0uNFUf",
        "-osacV6VSNqk",
        "wAygsyFFMjuy",
        "gcEkxtQSc3sf",
        "SQpAF2j3cypJ",
        "cNw66oTA_Qft"
      ],
      "provenance": []
    },
    "kernelspec": {
      "display_name": "base",
      "language": "python",
      "name": "python3"
    },
    "language_info": {
      "codemirror_mode": {
        "name": "ipython",
        "version": 3
      },
      "file_extension": ".py",
      "mimetype": "text/x-python",
      "name": "python",
      "nbconvert_exporter": "python",
      "pygments_lexer": "ipython3",
      "version": "3.11.5"
    }
  },
  "nbformat": 4,
  "nbformat_minor": 0
}
